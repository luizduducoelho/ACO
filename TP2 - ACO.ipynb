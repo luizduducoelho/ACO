{
 "cells": [
  {
   "cell_type": "markdown",
   "metadata": {},
   "source": [
    "## Imports"
   ]
  },
  {
   "cell_type": "code",
   "execution_count": 1,
   "metadata": {},
   "outputs": [],
   "source": [
    "import numpy as np "
   ]
  },
  {
   "cell_type": "markdown",
   "metadata": {},
   "source": [
    "## Reading Databases"
   ]
  },
  {
   "cell_type": "code",
   "execution_count": 2,
   "metadata": {},
   "outputs": [],
   "source": [
    "class Vertex():\n",
    "    def __init__(self, name):\n",
    "        self.name = name\n",
    "        self.edges = []\n",
    "        self.weights = []\n",
    "        self.pheromone = [] \n",
    "    \n",
    "    def add(self, other, weight):\n",
    "        self.edges.append(other)\n",
    "        self.weights.append(weight)\n",
    "        self.pheromone.append(1)  # Inicialize pheromone equals 1 to all edges"
   ]
  },
  {
   "cell_type": "code",
   "execution_count": 3,
   "metadata": {},
   "outputs": [],
   "source": [
    "class Graph():\n",
    "    def __init__(self):\n",
    "        self.vertices = dict()\n",
    "    \n",
    "    def build_graph(self, file):\n",
    "        with open(file) as f:\n",
    "            lines = f.readlines()\n",
    "            lines = [line.strip() for line in lines]\n",
    "            for line in lines:\n",
    "                line = line.split('\\t')\n",
    "                line = list(map(int, line))\n",
    "                if line[0] not in self.vertices.keys():\n",
    "                    self.vertices[line[0]] = Vertex(line[0])\n",
    "                self.vertices[line[0]].add(line[1], line[2])"
   ]
  },
  {
   "cell_type": "code",
   "execution_count": 4,
   "metadata": {},
   "outputs": [],
   "source": [
    "file = 'graph1.txt'\n",
    "G1 = Graph()\n",
    "G1.build_graph(file)"
   ]
  },
  {
   "cell_type": "markdown",
   "metadata": {},
   "source": [
    "## ACO "
   ]
  },
  {
   "cell_type": "code",
   "execution_count": 5,
   "metadata": {},
   "outputs": [],
   "source": [
    "class Ant():\n",
    "    def __init__(self):\n",
    "        self.path = [1]\n",
    "    \n",
    "    def show(self):\n",
    "        for e in self.path[:-1]:\n",
    "            print(e, end=', ')\n",
    "        print(self.path[-1])\n",
    "    \n",
    "    def step(self, graph):\n",
    "        vertex = self.path[-1]\n",
    "        edges = graph.vertices[vertex].edges\n",
    "        pheromone = graph.vertices[vertex].pheromone\n",
    "        weights = graph.vertices[vertex].weights\n",
    "        index = [i for (i,e) in enumerate(edges) if e not in self.path]\n",
    "        if index == []:\n",
    "            \n",
    "            return None, 0\n",
    "        #edges = [e for (i,e) in enumerate(edges) if i in index]\n",
    "        pheromone = [p for (i,p) in enumerate(pheromone) if i in index]\n",
    "        #weights = [w for (i,w) in enumerate(weights) if i in index]\n",
    "        #print(edges)\n",
    "        prob = pheromone / np.sum(pheromone)\n",
    "        chosen = np.random.choice(index, p=prob)\n",
    "        destination = edges[chosen]\n",
    "        cost = weights[chosen]\n",
    "        self.path.append(destination)\n",
    "        return destination, cost\n",
    "        \n",
    "    def walk(self, graph):\n",
    "        total_cost = 0\n",
    "        destination = 1\n",
    "        while(destination != 100 and destination != None):\n",
    "            destination, cost = self.step(graph)\n",
    "            print(destination, len(self.path))\n",
    "            ##Test\n",
    "            if len(self.path) <= 99:\n",
    "                 if destination == 100:\n",
    "                        self.path.pop()\n",
    "                        destination = 0\n",
    "                        continue\n",
    "            ## \n",
    "            total_cost += cost\n",
    "\n",
    "        self.show()\n",
    "        if destination == None:\n",
    "            print(\"DEAD END \")\n",
    "            return None\n",
    "        print(\"Total lenght = \", len(self.path))\n",
    "        print(\"Total weight = \", total_cost)"
   ]
  },
  {
   "cell_type": "code",
   "execution_count": 6,
   "metadata": {},
   "outputs": [],
   "source": [
    "class ACO():\n",
    "    def __init__(self):\n",
    "        self.number_of_ants = 1\n",
    "        self.ants = [Ant() for _ in range(self.number_of_ants)]\n",
    "    "
   ]
  },
  {
   "cell_type": "code",
   "execution_count": 7,
   "metadata": {},
   "outputs": [],
   "source": [
    "sol1 = ACO()"
   ]
  },
  {
   "cell_type": "code",
   "execution_count": 8,
   "metadata": {},
   "outputs": [
    {
     "name": "stdout",
     "output_type": "stream",
     "text": [
      "1\n"
     ]
    }
   ],
   "source": [
    "sol1.ants[0].show()"
   ]
  },
  {
   "cell_type": "code",
   "execution_count": 9,
   "metadata": {},
   "outputs": [
    {
     "name": "stdout",
     "output_type": "stream",
     "text": [
      "75 2\n",
      "46 3\n",
      "28 4\n",
      "32 5\n",
      "53 6\n",
      "40 7\n",
      "9 8\n",
      "25 9\n",
      "84 10\n",
      "17 11\n",
      "59 12\n",
      "71 13\n",
      "57 14\n",
      "24 15\n",
      "100 16\n",
      "35 16\n",
      "43 17\n",
      "50 18\n",
      "83 19\n",
      "49 20\n",
      "72 21\n",
      "19 22\n",
      "92 23\n",
      "85 24\n",
      "87 25\n",
      "74 26\n",
      "8 27\n",
      "63 28\n",
      "54 29\n",
      "62 30\n",
      "3 31\n",
      "91 32\n",
      "12 33\n",
      "20 34\n",
      "89 35\n",
      "80 36\n",
      "93 37\n",
      "45 38\n",
      "27 39\n",
      "58 40\n",
      "86 41\n",
      "88 42\n",
      "66 43\n",
      "47 44\n",
      "98 45\n",
      "97 46\n",
      "94 47\n",
      "81 48\n",
      "60 49\n",
      "34 50\n",
      "38 51\n",
      "31 52\n",
      "30 53\n",
      "29 54\n",
      "65 55\n",
      "33 56\n",
      "73 57\n",
      "21 58\n",
      "44 59\n",
      "100 60\n",
      "13 60\n",
      "41 61\n",
      "14 62\n",
      "48 63\n",
      "15 64\n",
      "52 65\n",
      "5 66\n",
      "90 67\n",
      "22 68\n",
      "37 69\n",
      "56 70\n",
      "76 71\n",
      "64 72\n",
      "36 73\n",
      "7 74\n",
      "100 75\n",
      "55 75\n",
      "96 76\n",
      "39 77\n",
      "18 78\n",
      "100 79\n",
      "51 79\n",
      "16 80\n",
      "61 81\n",
      "68 82\n",
      "77 83\n",
      "23 84\n",
      "10 85\n",
      "95 86\n",
      "67 87\n",
      "2 88\n",
      "78 89\n",
      "11 90\n",
      "79 91\n",
      "82 92\n",
      "69 93\n",
      "70 94\n",
      "42 95\n",
      "6 96\n",
      "99 97\n",
      "100 98\n",
      "4 98\n",
      "26 99\n",
      "100 100\n",
      "1, 75, 46, 28, 32, 53, 40, 9, 25, 84, 17, 59, 71, 57, 24, 35, 43, 50, 83, 49, 72, 19, 92, 85, 87, 74, 8, 63, 54, 62, 3, 91, 12, 20, 89, 80, 93, 45, 27, 58, 86, 88, 66, 47, 98, 97, 94, 81, 60, 34, 38, 31, 30, 29, 65, 33, 73, 21, 44, 13, 41, 14, 48, 15, 52, 5, 90, 22, 37, 56, 76, 64, 36, 7, 55, 96, 39, 18, 51, 16, 61, 68, 77, 23, 10, 95, 67, 2, 78, 11, 79, 82, 69, 70, 42, 6, 99, 4, 26, 100\n",
      "Total lenght =  100\n",
      "Total weight =  565\n"
     ]
    }
   ],
   "source": [
    "sol1.ants[0].walk(G1)"
   ]
  }
 ],
 "metadata": {
  "kernelspec": {
   "display_name": "Python 3",
   "language": "python",
   "name": "python3"
  },
  "language_info": {
   "codemirror_mode": {
    "name": "ipython",
    "version": 3
   },
   "file_extension": ".py",
   "mimetype": "text/x-python",
   "name": "python",
   "nbconvert_exporter": "python",
   "pygments_lexer": "ipython3",
   "version": "3.5.5"
  }
 },
 "nbformat": 4,
 "nbformat_minor": 2
}
