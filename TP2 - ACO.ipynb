{
 "cells": [
  {
   "cell_type": "markdown",
   "metadata": {},
   "source": [
    "## Imports"
   ]
  },
  {
   "cell_type": "code",
   "execution_count": 1,
   "metadata": {},
   "outputs": [],
   "source": [
    "import numpy as np \n",
    "import pickle\n",
    "import matplotlib.pyplot as plt"
   ]
  },
  {
   "cell_type": "markdown",
   "metadata": {},
   "source": [
    "## Reading Databases"
   ]
  },
  {
   "cell_type": "code",
   "execution_count": 2,
   "metadata": {},
   "outputs": [],
   "source": [
    "class Vertex():\n",
    "    def __init__(self, name):\n",
    "        self.name = name\n",
    "        self.edges = []\n",
    "        self.weights = []\n",
    "        self.pheromone = [] \n",
    "    \n",
    "    def add(self, other, weight):\n",
    "        self.edges.append(other)\n",
    "        self.weights.append(weight)\n",
    "        self.pheromone.append(10)  # Inicialize pheromone equals 10 to all edges"
   ]
  },
  {
   "cell_type": "code",
   "execution_count": 3,
   "metadata": {},
   "outputs": [],
   "source": [
    "class Graph():\n",
    "    def __init__(self):\n",
    "        self.vertices = dict()\n",
    "    \n",
    "    def build_graph(self, file):\n",
    "        with open(file) as f:\n",
    "            lines = f.readlines()\n",
    "            lines = [line.strip() for line in lines]\n",
    "            for line in lines:\n",
    "                line = line.split('\\t')\n",
    "                line = list(map(float, line))\n",
    "                if line[0] not in self.vertices.keys():\n",
    "                    self.vertices[line[0]] = Vertex(line[0])\n",
    "                self.vertices[line[0]].add(line[1], line[2])\n",
    "    \n",
    "    def update_pheromone(self, origin, destine, cost):\n",
    "            index = self.vertices[origin].edges.index(destine)\n",
    "            self.vertices[origin].pheromone[index] += cost\n",
    "    \n",
    "    def evaporate_pheromone(self, evaporation_rate):\n",
    "        for vertex in self.vertices.keys():\n",
    "            #self.vertices[vertex].pheromone -= np.array(evaporation_rate)\n",
    "            self.vertices[vertex].pheromone *= np.array(1-evaporation_rate)\n",
    "            self.vertices[vertex].pheromone = np.clip(self.vertices[vertex].pheromone, a_min=0, a_max=None)\n",
    "    \n",
    "    def show_pheromone(self):\n",
    "        for vertex in self.vertices.keys():\n",
    "            print(self.vertices[vertex].pheromone)\n",
    "    \n",
    "    def reset_pheromone(self):\n",
    "        for vertex in self.vertices.keys():\n",
    "            self.vertices[vertex].pheromone = [10 for _ in self.vertices[vertex].pheromone]"
   ]
  },
  {
   "cell_type": "code",
   "execution_count": 4,
   "metadata": {},
   "outputs": [],
   "source": [
    "file = 'graph1.txt'\n",
    "G1 = Graph()\n",
    "G1.build_graph(file)"
   ]
  },
  {
   "cell_type": "markdown",
   "metadata": {},
   "source": [
    "## ACO "
   ]
  },
  {
   "cell_type": "code",
   "execution_count": 5,
   "metadata": {},
   "outputs": [],
   "source": [
    "class Ant():\n",
    "    def __init__(self, destine):\n",
    "        self.path = [1]\n",
    "        self.destine = destine\n",
    "    \n",
    "    def show(self):\n",
    "        for e in self.path[:-1]:\n",
    "            print(e, end=', ')\n",
    "        print(self.path[-1])\n",
    "    \n",
    "    def step(self, graph, alfa=1, beta=2):\n",
    "        vertex = self.path[-1]\n",
    "        edges = graph.vertices[vertex].edges\n",
    "        pheromone = graph.vertices[vertex].pheromone\n",
    "        weights = graph.vertices[vertex].weights\n",
    "        index = [i for (i,e) in enumerate(edges) if e not in self.path]\n",
    "        if index == []:\n",
    "            \n",
    "            return None, 0\n",
    "        #edges = [e for (i,e) in enumerate(edges) if i in index]\n",
    "        pheromone = [p for (i,p) in enumerate(pheromone) if i in index]\n",
    "        v_weights = [w for (i,w) in enumerate(weights) if i in index]\n",
    "        #print(edges)\n",
    "        prob_num = np.array(pheromone)**alfa * np.array(v_weights)**beta\n",
    "        prob = prob_num/np.sum(prob_num)\n",
    "        chosen = np.random.choice(index, p=prob)\n",
    "        destination = edges[chosen]\n",
    "        cost = weights[chosen]\n",
    "        self.path.append(destination)\n",
    "        return destination, cost\n",
    "        \n",
    "    def walk(self, graph, alfa=1, beta=2):\n",
    "        total_cost = 0\n",
    "        destination = 1\n",
    "        while(destination != self.destine and destination != None):\n",
    "            destination, cost = self.step(graph, alfa, beta)\n",
    "            # print(destination, len(self.path))\n",
    "            ##Test\n",
    "            ##if len(self.path) <= 99:\n",
    "            ##     if destination == 100:\n",
    "            ##            self.path.pop()\n",
    "            ##            destination = 0\n",
    "            ##            continue\n",
    "            ## \n",
    "            total_cost += cost\n",
    "\n",
    "        #self.show()\n",
    "        if destination == None:\n",
    "            print(\"DEAD END \")\n",
    "            self.path=[1]  # Clear ant path before return \n",
    "            return 0, None\n",
    "        #print(\"Total lenght = \", len(self.path))\n",
    "        #print(\"Total weight = \", total_cost)\n",
    "        \n",
    "        # Reset ant path\n",
    "        path = self.path \n",
    "        self.path = [1]  # Clear ant path before return \n",
    "        \n",
    "        return total_cost, path\n"
   ]
  },
  {
   "cell_type": "code",
   "execution_count": 6,
   "metadata": {},
   "outputs": [
    {
     "ename": "SyntaxError",
     "evalue": "invalid syntax (<ipython-input-6-43a0be9b98c4>, line 108)",
     "output_type": "error",
     "traceback": [
      "\u001b[1;36m  File \u001b[1;32m\"<ipython-input-6-43a0be9b98c4>\"\u001b[1;36m, line \u001b[1;32m108\u001b[0m\n\u001b[1;33m    with open(directory '/' + OUTNAME + '.pickle', 'wb') as f:\u001b[0m\n\u001b[1;37m                          ^\u001b[0m\n\u001b[1;31mSyntaxError\u001b[0m\u001b[1;31m:\u001b[0m invalid syntax\n"
     ]
    }
   ],
   "source": [
    "class ACO():\n",
    "    def __init__(self, graph=None, number_of_ants=20, max_iterations=100, evaporation_rate=0.05, alfa=1, beta=2):\n",
    "        self.number_of_ants = number_of_ants\n",
    "        self.graph = graph\n",
    "        self.ants = [Ant(len(self.graph.vertices)) for _ in range(self.number_of_ants)]\n",
    "        self.max_iterations = max_iterations\n",
    "        self.evaporation_rate = evaporation_rate\n",
    "        self.current_iteration = 0\n",
    "        self.best = (0, None)\n",
    "        self.alfa = alfa\n",
    "        self.beta = beta\n",
    "        \n",
    "    def iteration(self):\n",
    "        self.current_iteration += 1\n",
    "        \n",
    "        #self.graph.show_pheromone()\n",
    "        #Evaporate pheromone\n",
    "        self.graph.evaporate_pheromone(self.evaporation_rate)\n",
    "        \n",
    "        fitness = []\n",
    "        for ant in self.ants:\n",
    "            \n",
    "            cost, path = ant.walk(self.graph, self.alfa, self.beta)\n",
    "            fitness.append(cost)\n",
    "            if path == None:\n",
    "                continue\n",
    "            \n",
    "            #Update best \n",
    "            if cost > self.best[0]:\n",
    "                self.best = (cost, path)\n",
    "        \n",
    "            #Update pheromone\n",
    "            for i, vertex in enumerate(path[:-1]):\n",
    "                origin = vertex\n",
    "                destine = path[i+1]\n",
    "                self.graph.update_pheromone(origin, destine, cost/100)\n",
    "        \n",
    "        #print(\"Best so far: \", self.best[0])\n",
    "        #print(\"Best so far: {},  Average fitness: {}\".format(self.best[0], np.mean(fitness)))\n",
    "        \n",
    "        # Return iteration fitness (mean and best) \n",
    "        return np.mean(fitness), self.best[0]\n",
    "    \n",
    "    def run(self, number_of_ants=20, max_iterations=100, evaporation_rate=0.05, alfa=1, beta=2):\n",
    "        self.number_of_ants = number_of_ants\n",
    "        self.max_iterations = max_iterations\n",
    "        self.evaporation_rate = evaporation_rate\n",
    "        self.alfa = alfa\n",
    "        self.beta = beta\n",
    "        print(\"-----------------\")\n",
    "        print(\"Parameters: \")\n",
    "        print(\"N of ants: \", self.number_of_ants)\n",
    "        print(\"Max iterations: \", self.max_iterations)\n",
    "        print(\"Evaporation rate: \", self.evaporation_rate)\n",
    "        print(\"Alfa: \", self.alfa)\n",
    "        print(\"Beta: \", self.beta)\n",
    "        print(\"-----------------\")\n",
    "        \n",
    "        \n",
    "        best_list = []\n",
    "        mean_list = []\n",
    "        for i in range(self.max_iterations):\n",
    "            mean, best = self.iteration()\n",
    "            mean_list.append(mean)\n",
    "            best_list.append(best)\n",
    "        return mean_list, best_list\n",
    "    \n",
    "    def reset(self):\n",
    "        self.current_iteration = 0\n",
    "        self.best = (0, None)\n",
    "        self.graph.reset_pheromone()\n",
    "    \n",
    "    def test_parameters_set(self, number_of_ants, max_iterations, evaporation_rate, alfa=1, beta=2, repetitions=10, directory='plots'):\n",
    "        global_mean_list = []\n",
    "        global_best_list = []\n",
    "        for i in range(repetitions):\n",
    "            self.reset()\n",
    "            global_mean, global_best = self.run(number_of_ants, max_iterations, evaporation_rate, alfa=1, beta=2)\n",
    "            global_mean_list.append(global_mean)\n",
    "            global_best_list.append(global_best)\n",
    "            print(\"Global best: {}, Mean fitness: {} \\n\".format(max(global_best), np.mean(global_mean)))\n",
    "        \n",
    "        final_mean = np.mean(global_mean_list, axis=0)\n",
    "        final_best = np.mean(global_best_list, axis=0)\n",
    "        mean_fitness_std = np.std(global_mean_list, axis=0)\n",
    "        best_fitness_std = np.std(global_mean_list, axis=0)\n",
    "        \n",
    "        ## Plotting \n",
    "        plt.figure(figsize=(12,6), dpi=100)\n",
    "        plt.subplot(121)\n",
    "        plt.suptitle('Parameters: N of ants: {}, Evaporation rate: {}, Max iterations = {}'.format(number_of_ants, evaporation_rate, max_iterations))\n",
    "        plt.title(\"Best cost\")\n",
    "        plt.plot(final_best)\n",
    "        plt.ylabel(\"Fitness\")\n",
    "        plt.xlabel(\"Iterations\")\n",
    "\n",
    "        plt.subplot(122)\n",
    "        plt.title(\"Mean cost\")\n",
    "        plt.plot(final_mean)\n",
    "        plt.ylabel(\"Fitness\")\n",
    "        plt.xlabel(\"Iterations\")\n",
    "        plt.subplots_adjust(hspace=8, wspace=0.4)\n",
    "\n",
    "        OUTNAME = 'ants{}_evaporation{}_iterations{}'.format(number_of_ants, evaporation_rate, max_iterations)\n",
    "        plt.savefig(directory + '/' + OUTNAME+'.png')\n",
    "        \n",
    "        ## Saving Pickle\n",
    "        with open(directory + '/' + OUTNAME + '.pickle', 'wb') as f:\n",
    "            pickle.dump([global_mean_list, global_best_list, final_mean, final_best, mean_fitness_std, best_fitness_std], f, pickle.HIGHEST_PROTOCOL)"
   ]
  },
  {
   "cell_type": "markdown",
   "metadata": {},
   "source": [
    "## Problem 1"
   ]
  },
  {
   "cell_type": "code",
   "execution_count": null,
   "metadata": {},
   "outputs": [],
   "source": [
    "sol1 = ACO(G1)"
   ]
  },
  {
   "cell_type": "code",
   "execution_count": null,
   "metadata": {},
   "outputs": [],
   "source": [
    "#number_of_ants = 20\n",
    "#max_iterations = 150\n",
    "#evaporation_rate = 0.05\n",
    "#mean, best = sol1.run(number_of_ants, max_iterations, evaporation_rate)"
   ]
  },
  {
   "cell_type": "code",
   "execution_count": null,
   "metadata": {},
   "outputs": [],
   "source": [
    "for evaporation_rate in [0.01, 0.03, 0.05]:\n",
    "    for number_of_ants in [20, 40, 70]:\n",
    "        for max_iterations in [100, 150, 200]:\n",
    "            sol1.test_parameters_set(number_of_ants, max_iterations, evaporation_rate, repetitions=10, directory='plots1')"
   ]
  },
  {
   "cell_type": "markdown",
   "metadata": {},
   "source": [
    "## Problem 2"
   ]
  },
  {
   "cell_type": "code",
   "execution_count": null,
   "metadata": {},
   "outputs": [],
   "source": [
    "file = 'graph2.txt'\n",
    "G2 = Graph()\n",
    "G2.build_graph(file)"
   ]
  },
  {
   "cell_type": "code",
   "execution_count": null,
   "metadata": {},
   "outputs": [],
   "source": [
    "number_of_ants = 20\n",
    "max_iterations = 150\n",
    "evaporation_rate = 0.01\n",
    "alfa = 1\n",
    "beta = 2\n",
    "sol2 = ACO(G2, number_of_ants, max_iterations, evaporation_rate, alfa, beta)"
   ]
  },
  {
   "cell_type": "code",
   "execution_count": null,
   "metadata": {},
   "outputs": [],
   "source": [
    "sol2.reset()\n",
    "sol2.run()"
   ]
  }
 ],
 "metadata": {
  "kernelspec": {
   "display_name": "Python 3",
   "language": "python",
   "name": "python3"
  },
  "language_info": {
   "codemirror_mode": {
    "name": "ipython",
    "version": 3
   },
   "file_extension": ".py",
   "mimetype": "text/x-python",
   "name": "python",
   "nbconvert_exporter": "python",
   "pygments_lexer": "ipython3",
   "version": "3.5.5"
  }
 },
 "nbformat": 4,
 "nbformat_minor": 2
}
